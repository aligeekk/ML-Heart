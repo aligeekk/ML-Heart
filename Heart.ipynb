{
 "cells": [
  {
   "cell_type": "markdown",
   "metadata": {},
   "source": [
    "# Ensemble Method pada dataset Heart"
   ]
  },
  {
   "cell_type": "markdown",
   "metadata": {},
   "source": [
    "\n",
    "### 1. Inisialisasikan library yang diperlukan untuk dataset ini."
   ]
  },
  {
   "cell_type": "code",
   "execution_count": 1,
   "metadata": {},
   "outputs": [],
   "source": [
    "#inisialisasi library\n",
    "import numpy as np\n",
    "import pandas as pd\n",
    "import matplotlib.pyplot as plt\n",
    "import seaborn as sns\n",
    "\n",
    "from sklearn.ensemble import RandomForestClassifier\n",
    "from sklearn.ensemble import AdaBoostClassifier\n",
    "from sklearn.ensemble import GradientBoostingClassifier\n",
    "\n",
    "from sklearn.model_selection import train_test_split\n",
    "from sklearn.model_selection import cross_val_score\n",
    "\n",
    "from sklearn.preprocessing import MinMaxScaler\n",
    "from sklearn.metrics import classification_report"
   ]
  },
  {
   "cell_type": "markdown",
   "metadata": {},
   "source": [
    "\n",
    "### 2. Masukan dataset Visit-Nominal.csv kedalam dataframe"
   ]
  },
  {
   "cell_type": "code",
   "execution_count": 8,
   "metadata": {},
   "outputs": [
    {
     "data": {
      "text/html": [
       "<div>\n",
       "<style scoped>\n",
       "    .dataframe tbody tr th:only-of-type {\n",
       "        vertical-align: middle;\n",
       "    }\n",
       "\n",
       "    .dataframe tbody tr th {\n",
       "        vertical-align: top;\n",
       "    }\n",
       "\n",
       "    .dataframe thead th {\n",
       "        text-align: right;\n",
       "    }\n",
       "</style>\n",
       "<table border=\"1\" class=\"dataframe\">\n",
       "  <thead>\n",
       "    <tr style=\"text-align: right;\">\n",
       "      <th></th>\n",
       "      <th>1</th>\n",
       "      <th>2</th>\n",
       "      <th>3</th>\n",
       "      <th>4</th>\n",
       "      <th>5</th>\n",
       "      <th>6</th>\n",
       "      <th>7</th>\n",
       "      <th>8</th>\n",
       "      <th>9</th>\n",
       "      <th>10</th>\n",
       "      <th>11</th>\n",
       "      <th>12</th>\n",
       "      <th>13</th>\n",
       "      <th>14</th>\n",
       "    </tr>\n",
       "  </thead>\n",
       "  <tbody>\n",
       "    <tr>\n",
       "      <th>0</th>\n",
       "      <td>Age</td>\n",
       "      <td>Sex</td>\n",
       "      <td>ChestPain</td>\n",
       "      <td>RestBP</td>\n",
       "      <td>Chol</td>\n",
       "      <td>Fbs</td>\n",
       "      <td>RestECG</td>\n",
       "      <td>MaxHR</td>\n",
       "      <td>ExAng</td>\n",
       "      <td>Oldpeak</td>\n",
       "      <td>Slope</td>\n",
       "      <td>Ca</td>\n",
       "      <td>Thal</td>\n",
       "      <td>AHD</td>\n",
       "    </tr>\n",
       "    <tr>\n",
       "      <th>1</th>\n",
       "      <td>63</td>\n",
       "      <td>1</td>\n",
       "      <td>typical</td>\n",
       "      <td>145</td>\n",
       "      <td>233</td>\n",
       "      <td>1</td>\n",
       "      <td>2</td>\n",
       "      <td>150</td>\n",
       "      <td>0</td>\n",
       "      <td>2.3</td>\n",
       "      <td>3</td>\n",
       "      <td>0</td>\n",
       "      <td>fixed</td>\n",
       "      <td>No</td>\n",
       "    </tr>\n",
       "    <tr>\n",
       "      <th>2</th>\n",
       "      <td>67</td>\n",
       "      <td>1</td>\n",
       "      <td>asymptomatic</td>\n",
       "      <td>160</td>\n",
       "      <td>286</td>\n",
       "      <td>0</td>\n",
       "      <td>2</td>\n",
       "      <td>108</td>\n",
       "      <td>1</td>\n",
       "      <td>1.5</td>\n",
       "      <td>2</td>\n",
       "      <td>3</td>\n",
       "      <td>normal</td>\n",
       "      <td>Yes</td>\n",
       "    </tr>\n",
       "    <tr>\n",
       "      <th>3</th>\n",
       "      <td>67</td>\n",
       "      <td>1</td>\n",
       "      <td>asymptomatic</td>\n",
       "      <td>120</td>\n",
       "      <td>229</td>\n",
       "      <td>0</td>\n",
       "      <td>2</td>\n",
       "      <td>129</td>\n",
       "      <td>1</td>\n",
       "      <td>2.6</td>\n",
       "      <td>2</td>\n",
       "      <td>2</td>\n",
       "      <td>reversable</td>\n",
       "      <td>Yes</td>\n",
       "    </tr>\n",
       "    <tr>\n",
       "      <th>4</th>\n",
       "      <td>37</td>\n",
       "      <td>1</td>\n",
       "      <td>nonanginal</td>\n",
       "      <td>130</td>\n",
       "      <td>250</td>\n",
       "      <td>0</td>\n",
       "      <td>0</td>\n",
       "      <td>187</td>\n",
       "      <td>0</td>\n",
       "      <td>3.5</td>\n",
       "      <td>3</td>\n",
       "      <td>0</td>\n",
       "      <td>normal</td>\n",
       "      <td>No</td>\n",
       "    </tr>\n",
       "  </tbody>\n",
       "</table>\n",
       "</div>"
      ],
      "text/plain": [
       "    1    2             3       4     5    6        7      8      9        10  \\\n",
       "0  Age  Sex     ChestPain  RestBP  Chol  Fbs  RestECG  MaxHR  ExAng  Oldpeak   \n",
       "1   63    1       typical     145   233    1        2    150      0      2.3   \n",
       "2   67    1  asymptomatic     160   286    0        2    108      1      1.5   \n",
       "3   67    1  asymptomatic     120   229    0        2    129      1      2.6   \n",
       "4   37    1    nonanginal     130   250    0        0    187      0      3.5   \n",
       "\n",
       "      11  12          13   14  \n",
       "0  Slope  Ca        Thal  AHD  \n",
       "1      3   0       fixed   No  \n",
       "2      2   3      normal  Yes  \n",
       "3      2   2  reversable  Yes  \n",
       "4      3   0      normal   No  "
      ]
     },
     "execution_count": 8,
     "metadata": {},
     "output_type": "execute_result"
    }
   ],
   "source": [
    "#siapkan dataframe untuk mengambil attribut\n",
    "df = pd.read_csv(\"\\\\Users\\\\aftermath\\\\Documents\\\\Machine Learning\\\\heartbeat dataset\\\\Heart.csv\",header=None, skipinitialspace=True)\n",
    "df = df.drop(df.columns[0], axis=1)\n",
    "\n",
    "df.head()"
   ]
  },
  {
   "cell_type": "code",
   "execution_count": 18,
   "metadata": {},
   "outputs": [
    {
     "data": {
      "text/plain": [
       "['Age',\n",
       " 'Sex',\n",
       " 'ChestPain',\n",
       " 'RestBP',\n",
       " 'Chol',\n",
       " 'Fbs',\n",
       " 'RestECG',\n",
       " 'MaxHR',\n",
       " 'ExAng',\n",
       " 'Oldpeak',\n",
       " 'Slope',\n",
       " 'Ca',\n",
       " 'Thal',\n",
       " 'AHD']"
      ]
     },
     "execution_count": 18,
     "metadata": {},
     "output_type": "execute_result"
    }
   ],
   "source": [
    "#masukan attribut kedalam array \n",
    "attrs = []\n",
    "for attr in range(1,15):\n",
    "    attrs.append(df.at[0,attr])\n",
    "attrs"
   ]
  },
  {
   "cell_type": "code",
   "execution_count": 22,
   "metadata": {},
   "outputs": [
    {
     "name": "stdout",
     "output_type": "stream",
     "text": [
      "<class 'pandas.core.frame.DataFrame'>\n",
      "RangeIndex: 303 entries, 0 to 302\n",
      "Data columns (total 14 columns):\n",
      "Age          303 non-null object\n",
      "Sex          303 non-null object\n",
      "ChestPain    303 non-null object\n",
      "RestBP       303 non-null object\n",
      "Chol         303 non-null object\n",
      "Fbs          303 non-null object\n",
      "RestECG      303 non-null object\n",
      "MaxHR        303 non-null object\n",
      "ExAng        303 non-null object\n",
      "Oldpeak      303 non-null object\n",
      "Slope        303 non-null object\n",
      "Ca           299 non-null object\n",
      "Thal         301 non-null object\n",
      "AHD          303 non-null object\n",
      "dtypes: object(14)\n",
      "memory usage: 33.2+ KB\n",
      "None\n"
     ]
    }
   ],
   "source": [
    "#dataframe baru dengan nama kolom = attrs\n",
    "dfnew = pd.read_csv(\"\\\\Users\\\\aftermath\\\\Documents\\\\Machine Learning\\\\heartbeat dataset\\\\Heart.csv\",header=None, skipinitialspace=True)\n",
    "dfnew = df.iloc[1:]\n",
    "dfnew.drop(dfnew.index[[0,1]])\n",
    "dfnew.columns = attrs\n",
    "dfnew.index =  range(len(dfnew.index))\n",
    "print(dfnew.info())"
   ]
  },
  {
   "cell_type": "code",
   "execution_count": 23,
   "metadata": {},
   "outputs": [
    {
     "name": "stdout",
     "output_type": "stream",
     "text": [
      "        Age  Sex     ChestPain RestBP Chol  Fbs RestECG MaxHR ExAng Oldpeak  \\\n",
      "count   303  303           303    303  303  303     303   303   303     303   \n",
      "unique   41    2             4     50  152    2       3    91     2      40   \n",
      "top      58    1  asymptomatic    120  204    0       0   162     0       0   \n",
      "freq     19  206           144     37    6  258     151    11   204      99   \n",
      "\n",
      "       Slope   Ca    Thal  AHD  \n",
      "count    303  299     301  303  \n",
      "unique     3    4       3    2  \n",
      "top        1    0  normal   No  \n",
      "freq     142  176     166  164  \n"
     ]
    }
   ],
   "source": [
    "print(dfnew.describe())"
   ]
  },
  {
   "cell_type": "code",
   "execution_count": 24,
   "metadata": {},
   "outputs": [
    {
     "data": {
      "text/html": [
       "<div>\n",
       "<style scoped>\n",
       "    .dataframe tbody tr th:only-of-type {\n",
       "        vertical-align: middle;\n",
       "    }\n",
       "\n",
       "    .dataframe tbody tr th {\n",
       "        vertical-align: top;\n",
       "    }\n",
       "\n",
       "    .dataframe thead th {\n",
       "        text-align: right;\n",
       "    }\n",
       "</style>\n",
       "<table border=\"1\" class=\"dataframe\">\n",
       "  <thead>\n",
       "    <tr style=\"text-align: right;\">\n",
       "      <th></th>\n",
       "      <th>Age</th>\n",
       "      <th>Sex</th>\n",
       "      <th>ChestPain</th>\n",
       "      <th>RestBP</th>\n",
       "      <th>Chol</th>\n",
       "      <th>Fbs</th>\n",
       "      <th>RestECG</th>\n",
       "      <th>MaxHR</th>\n",
       "      <th>ExAng</th>\n",
       "      <th>Oldpeak</th>\n",
       "      <th>Slope</th>\n",
       "      <th>Ca</th>\n",
       "      <th>Thal</th>\n",
       "      <th>AHD</th>\n",
       "    </tr>\n",
       "  </thead>\n",
       "  <tbody>\n",
       "    <tr>\n",
       "      <th>0</th>\n",
       "      <td>63</td>\n",
       "      <td>1</td>\n",
       "      <td>typical</td>\n",
       "      <td>145</td>\n",
       "      <td>233</td>\n",
       "      <td>1</td>\n",
       "      <td>2</td>\n",
       "      <td>150</td>\n",
       "      <td>0</td>\n",
       "      <td>2.3</td>\n",
       "      <td>3</td>\n",
       "      <td>0</td>\n",
       "      <td>fixed</td>\n",
       "      <td>No</td>\n",
       "    </tr>\n",
       "    <tr>\n",
       "      <th>1</th>\n",
       "      <td>67</td>\n",
       "      <td>1</td>\n",
       "      <td>asymptomatic</td>\n",
       "      <td>160</td>\n",
       "      <td>286</td>\n",
       "      <td>0</td>\n",
       "      <td>2</td>\n",
       "      <td>108</td>\n",
       "      <td>1</td>\n",
       "      <td>1.5</td>\n",
       "      <td>2</td>\n",
       "      <td>3</td>\n",
       "      <td>normal</td>\n",
       "      <td>Yes</td>\n",
       "    </tr>\n",
       "    <tr>\n",
       "      <th>2</th>\n",
       "      <td>67</td>\n",
       "      <td>1</td>\n",
       "      <td>asymptomatic</td>\n",
       "      <td>120</td>\n",
       "      <td>229</td>\n",
       "      <td>0</td>\n",
       "      <td>2</td>\n",
       "      <td>129</td>\n",
       "      <td>1</td>\n",
       "      <td>2.6</td>\n",
       "      <td>2</td>\n",
       "      <td>2</td>\n",
       "      <td>reversable</td>\n",
       "      <td>Yes</td>\n",
       "    </tr>\n",
       "    <tr>\n",
       "      <th>3</th>\n",
       "      <td>37</td>\n",
       "      <td>1</td>\n",
       "      <td>nonanginal</td>\n",
       "      <td>130</td>\n",
       "      <td>250</td>\n",
       "      <td>0</td>\n",
       "      <td>0</td>\n",
       "      <td>187</td>\n",
       "      <td>0</td>\n",
       "      <td>3.5</td>\n",
       "      <td>3</td>\n",
       "      <td>0</td>\n",
       "      <td>normal</td>\n",
       "      <td>No</td>\n",
       "    </tr>\n",
       "    <tr>\n",
       "      <th>4</th>\n",
       "      <td>41</td>\n",
       "      <td>0</td>\n",
       "      <td>nontypical</td>\n",
       "      <td>130</td>\n",
       "      <td>204</td>\n",
       "      <td>0</td>\n",
       "      <td>2</td>\n",
       "      <td>172</td>\n",
       "      <td>0</td>\n",
       "      <td>1.4</td>\n",
       "      <td>1</td>\n",
       "      <td>0</td>\n",
       "      <td>normal</td>\n",
       "      <td>No</td>\n",
       "    </tr>\n",
       "  </tbody>\n",
       "</table>\n",
       "</div>"
      ],
      "text/plain": [
       "  Age Sex     ChestPain RestBP Chol Fbs RestECG MaxHR ExAng Oldpeak Slope Ca  \\\n",
       "0  63   1       typical    145  233   1       2   150     0     2.3     3  0   \n",
       "1  67   1  asymptomatic    160  286   0       2   108     1     1.5     2  3   \n",
       "2  67   1  asymptomatic    120  229   0       2   129     1     2.6     2  2   \n",
       "3  37   1    nonanginal    130  250   0       0   187     0     3.5     3  0   \n",
       "4  41   0    nontypical    130  204   0       2   172     0     1.4     1  0   \n",
       "\n",
       "         Thal  AHD  \n",
       "0       fixed   No  \n",
       "1      normal  Yes  \n",
       "2  reversable  Yes  \n",
       "3      normal   No  \n",
       "4      normal   No  "
      ]
     },
     "execution_count": 24,
     "metadata": {},
     "output_type": "execute_result"
    }
   ],
   "source": [
    "dfnew.head()"
   ]
  },
  {
   "cell_type": "markdown",
   "metadata": {},
   "source": [
    "\n",
    "### 3. Cek data null dan Preprocessing data"
   ]
  },
  {
   "cell_type": "code",
   "execution_count": 39,
   "metadata": {},
   "outputs": [
    {
     "data": {
      "text/plain": [
       "<matplotlib.axes._subplots.AxesSubplot at 0x211ac13eba8>"
      ]
     },
     "execution_count": 39,
     "metadata": {},
     "output_type": "execute_result"
    },
    {
     "data": {
      "image/png": "[encoded data removed]",
      "text/plain": [
       "<Figure size 432x288 with 2 Axes>"
      ]
     },
     "metadata": {
      "needs_background": "light"
     },
     "output_type": "display_data"
    }
   ],
   "source": [
    "#Cek apakah ada missing value\n",
    "missing_values = dfnew.isnull()\n",
    "\n",
    "sns.heatmap(data = missing_values)"
   ]
  },
  {
   "cell_type": "code",
   "execution_count": 47,
   "metadata": {},
   "outputs": [
    {
     "name": "stdout",
     "output_type": "stream",
     "text": [
      "Ca:\n",
      " 0    176\n",
      "1     65\n",
      "2     38\n",
      "3     20\n",
      "Name: Ca, dtype: int64\n",
      "\n",
      "Thal:\n",
      " normal        166\n",
      "reversable    117\n",
      "fixed          18\n",
      "Name: Thal, dtype: int64\n"
     ]
    }
   ],
   "source": [
    "print(\"Ca:\\n\",dfnew['Ca'].value_counts())\n",
    "print(\"\\nThal:\\n\",dfnew['Thal'].value_counts())\n"
   ]
  },
  {
   "cell_type": "code",
   "execution_count": 35,
   "metadata": {},
   "outputs": [
    {
     "name": "stdout",
     "output_type": "stream",
     "text": [
      "Age  :\n",
      " ['63', '67', '37', '41', '56', '62', '57', '53', '44', '52', '48', '54', '49', '64', '58', '60', '50', '66', '43', '40', '69', '59', '42', '55', '61', '65', '71', '51', '46', '45', '39', '68', '47', '34', '35', '29', '70', '77', '38', '74', '76'] \n",
      "\n",
      "Sex  :\n",
      " ['1', '0'] \n",
      "\n",
      "ChestPain  :\n",
      " ['typical', 'asymptomatic', 'nonanginal', 'nontypical'] \n",
      "\n",
      "RestBP  :\n",
      " ['145', '160', '120', '130', '140', '172', '150', '110', '132', '117', '135', '112', '105', '124', '125', '142', '128', '170', '155', '104', '180', '138', '108', '134', '122', '115', '118', '100', '200', '94', '165', '102', '152', '101', '126', '174', '148', '178', '158', '192', '129', '144', '123', '136', '146', '106', '156', '154', '114', '164'] \n",
      "\n",
      "Chol  :\n",
      " ['233', '286', '229', '250', '204', '236', '268', '354', '254', '203', '192', '294', '256', '263', '199', '168', '239', '275', '266', '211', '283', '284', '224', '206', '219', '340', '226', '247', '167', '230', '335', '234', '177', '276', '353', '243', '225', '302', '212', '330', '175', '417', '197', '198', '290', '253', '172', '273', '213', '305', '216', '304', '188', '282', '185', '232', '326', '231', '269', '267', '248', '360', '258', '308', '245', '270', '208', '264', '321', '274', '325', '235', '257', '164', '141', '252', '255', '201', '222', '260', '182', '303', '265', '309', '307', '249', '186', '341', '183', '407', '217', '288', '220', '209', '227', '261', '174', '281', '221', '205', '240', '289', '318', '298', '564', '246', '322', '299', '300', '293', '277', '214', '207', '223', '160', '394', '184', '315', '409', '244', '195', '196', '126', '313', '259', '200', '262', '215', '228', '193', '271', '210', '327', '149', '295', '306', '178', '237', '218', '242', '319', '166', '180', '311', '278', '342', '169', '187', '157', '176', '241', '131'] \n",
      "\n",
      "Fbs  :\n",
      " ['1', '0'] \n",
      "\n",
      "RestECG  :\n",
      " ['2', '0', '1'] \n",
      "\n",
      "MaxHR  :\n",
      " ['150', '108', '129', '187', '172', '178', '160', '163', '147', '155', '148', '153', '142', '173', '162', '174', '168', '139', '171', '144', '132', '158', '114', '151', '161', '179', '120', '112', '137', '157', '169', '165', '123', '128', '152', '140', '188', '109', '125', '131', '170', '113', '99', '177', '141', '180', '111', '143', '182', '156', '115', '149', '145', '146', '175', '186', '185', '159', '130', '190', '136', '97', '127', '154', '133', '126', '202', '103', '166', '164', '184', '124', '122', '96', '138', '88', '105', '194', '195', '106', '167', '95', '192', '117', '121', '116', '71', '118', '181', '134', '90'] \n",
      "\n",
      "ExAng  :\n",
      " ['0', '1'] \n",
      "\n",
      "Oldpeak  :\n",
      " ['2.3', '1.5', '2.6', '3.5', '1.4', '0.8', '3.6', '0.6', '3.1', '0.4', '1.3', '0', '0.5', '1.6', '1', '1.2', '0.2', '1.8', '3.2', '2.4', '2', '2.5', '2.2', '2.8', '3', '3.4', '6.2', '4', '5.6', '2.9', '0.1', '2.1', '1.9', '4.2', '0.9', '1.1', '3.8', '0.7', '0.3', '4.4'] \n",
      "\n",
      "Slope  :\n",
      " ['3', '2', '1'] \n",
      "\n",
      "Ca  :\n",
      " ['0', '3', '2', '1', nan] \n",
      "\n",
      "Thal  :\n",
      " ['fixed', 'normal', 'reversable', nan] \n",
      "\n",
      "AHD  :\n",
      " ['No', 'Yes'] \n",
      "\n"
     ]
    }
   ],
   "source": [
    "#list isi dari kolom ChestPain dan Thal\n",
    "#for attr in attrs:\n",
    "#   print(attr,\" :\\n\",dfnew[attr].unique().tolist(),\"\\n\")\n",
    "\n",
    "print(\"ChestPain :\\n\",dfnew['ChestPain'].unique().tolist(),\"\\n\")\n",
    "print(\"ChestPain :\\n\",dfnew['ChestPain'].unique().tolist(),\"\\n\")"
   ]
  },
  {
   "cell_type": "code",
   "execution_count": 36,
   "metadata": {},
   "outputs": [
    {
     "data": {
      "text/plain": [
       "<matplotlib.axes._subplots.AxesSubplot at 0x211abc23978>"
      ]
     },
     "execution_count": 36,
     "metadata": {},
     "output_type": "execute_result"
    },
    {
     "data": {
      "image/png": "[encoded data removed]",
      "text/plain": [
       "<Figure size 432x288 with 2 Axes>"
      ]
     },
     "metadata": {
      "needs_background": "light"
     },
     "output_type": "display_data"
    }
   ],
   "source": []
  },
  {
   "cell_type": "code",
   "execution_count": null,
   "metadata": {},
   "outputs": [],
   "source": []
  }
 ],
 "metadata": {
  "kernelspec": {
   "display_name": "Python 3",
   "language": "python",
   "name": "python3"
  },
  "language_info": {
   "codemirror_mode": {
    "name": "ipython",
    "version": 3
   },
   "file_extension": ".py",
   "mimetype": "text/x-python",
   "name": "python",
   "nbconvert_exporter": "python",
   "pygments_lexer": "ipython3",
   "version": "3.6.8"
  }
 },
 "nbformat": 4,
 "nbformat_minor": 2
}
